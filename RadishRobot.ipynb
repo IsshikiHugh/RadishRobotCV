{
  "cells": [
    {
      "cell_type": "markdown",
      "metadata": {
        "id": "eK7fq8IVZkSM"
      },
      "source": [
        "# 萝卜机器人 算法组 集成代码\n",
        "\n",
        "## 目录\n",
        "\n",
        "- 视频/图片 输入\n",
        "- Tinypose 输出\n",
        "- 格式转换 输入\n",
        "- 3d base line 输出\n",
        "- 格式转换 输入\n",
        "- bvh 输出"
      ]
    },
    {
      "cell_type": "markdown",
      "metadata": {
        "id": "pnK0ccoVZ67O"
      },
      "source": [
        "## 环境预备"
      ]
    },
    {
      "cell_type": "code",
      "execution_count": null,
      "metadata": {},
      "outputs": [],
      "source": [
        "# clone some necessary files\n",
        "!sh \"./initialize.sh\" "
      ]
    },
    {
      "cell_type": "markdown",
      "metadata": {
        "id": "xJwFvqO0aj_7"
      },
      "source": [
        "### Colab\n",
        "\n",
        "如果使用 Colab 就需要运行下面的代码。"
      ]
    },
    {
      "cell_type": "code",
      "execution_count": null,
      "metadata": {
        "id": "yilKIMxvaTUe"
      },
      "outputs": [],
      "source": [
        "# 占用显存\n",
        "import torch\n",
        "# about 1.1 GB\n",
        "a = torch.Tensor([1000, 1000, 1000]).cuda()\n",
        "\n",
        "# 查看显卡信息\n",
        "!nvidia-smi"
      ]
    },
    {
      "cell_type": "code",
      "execution_count": null,
      "metadata": {
        "id": "lzVeJ3UAg6QU"
      },
      "outputs": [],
      "source": [
        "# 挂载谷歌云盘 (是否需要？)\n",
        "# from google.colab import drive\n",
        "# drive.mount('/content/drive/')\n",
        "\n",
        "# clone repo if necessary\n",
        "import os\n",
        "os.chdir(\"/content/\")\n",
        "!git clone https://github.com/IsshikiHugh/RadishRobotCV.git"
      ]
    },
    {
      "cell_type": "markdown",
      "metadata": {
        "id": "L9RgCIP3aOvv"
      },
      "source": [
        "### Tinypose\n"
      ]
    },
    {
      "cell_type": "code",
      "execution_count": null,
      "metadata": {
        "id": "hHqP7u2qZdlw"
      },
      "outputs": [],
      "source": [
        "import os\n",
        "%pip install paddlepaddle-gpu\n",
        "import paddle\n",
        "paddle.utils.run_check()\n",
        "print(paddle.__version__)"
      ]
    },
    {
      "cell_type": "code",
      "execution_count": null,
      "metadata": {},
      "outputs": [],
      "source": [
        "# install pd\n",
        "%cd \"/content/RadishRobotCV/PaddleDetection\"\n",
        "%pip install -r requirements.txt\n",
        "!python setup.py install\n",
        "!python ppdet/modeling/tests/test_architectures.py"
      ]
    },
    {
      "cell_type": "code",
      "execution_count": null,
      "metadata": {
        "id": "ubyhuU_ZcvFb"
      },
      "outputs": [],
      "source": [
        "# # usage\n",
        "\n",
        "# %cd \"/content/RadishRobotCV/PaddleDetection\"\n",
        "\n",
        "# # single picture\n",
        "# !python3 deploy/python/det_keypoint_unite_infer.py --det_model_dir=output_inference/picodet_s_192_pedestrian --keypoint_model_dir=output_inference/tinypose_128x96 --device=GPU --image_file=1.jpg\n",
        "\n",
        "# %cd \"/content/RadishRobotCV/PaddleDetection\"\n",
        "# # vedio\n",
        "# !python3 deploy/python/det_keypoint_unite_infer.py --det_model_dir=output_inference/picodet_s_192_pedestrian --keypoint_model_dir=output_inference/tinypose_128x96 --device=GPU  --save_res=True --video_file=1.mp4"
      ]
    },
    {
      "cell_type": "markdown",
      "metadata": {},
      "source": [
        "### 3d Base Line"
      ]
    },
    {
      "cell_type": "code",
      "execution_count": null,
      "metadata": {},
      "outputs": [],
      "source": [
        "%pip install h5py tensorflow imageio numpy"
      ]
    },
    {
      "cell_type": "code",
      "execution_count": null,
      "metadata": {},
      "outputs": [],
      "source": [
        "# # useage\n",
        "# %cd \"/content/RadishRobotCV/3dbaseline\"\n",
        "# !python src/openpose_3dpose_sandbox.py --camera_frame --residual --batch_norm --dropout 0.5 --max_norm --evaluateActionWise --use_sh --epochs 1 --load 24371 --pose_estimation_json <path> --gif_fps 24\n"
      ]
    },
    {
      "cell_type": "markdown",
      "metadata": {},
      "source": [
        "## 使用\n",
        "\n",
        "在`RadishRobotCV/input_dir`下放入`input_video.mp4`"
      ]
    },
    {
      "cell_type": "code",
      "execution_count": null,
      "metadata": {},
      "outputs": [],
      "source": [
        "%cd \"/content/RadishRobotCV\"\n",
        "%mkdir \"input_dir\"\n",
        "%mkdir \"input_dir/input_jsonDir_2d\""
      ]
    },
    {
      "cell_type": "markdown",
      "metadata": {},
      "source": [
        "### video - json"
      ]
    },
    {
      "cell_type": "code",
      "execution_count": null,
      "metadata": {},
      "outputs": [],
      "source": [
        "%cd \"/content/RadishRobotCV\"\n",
        "%mkdir \"./PaddleDetection/input_vedio\"\n",
        "%cp \"./input_dir/input_video.mp4\" \"./PaddleDetection/input_vedio/input_video.mp4\"\n",
        "\n",
        "%cd \"/content/RadishRobotCV/PaddleDetection\"\n",
        "!python deploy/python/det_keypoint_unite_infer.py --det_model_dir=output_inference/picodet_s_192_pedestrian --keypoint_model_dir=output_inference/tinypose_128x96 --device=GPU --video_file=input_vedio/input_video.mp4 --save_res=True\n",
        "\n",
        "%cp \"det_keypoint_unite_video_results.json\" \"/content/RadishRobotCV/input_dir/input_json.json\" "
      ]
    },
    {
      "cell_type": "markdown",
      "metadata": {},
      "source": [
        "### json(tinypose) - json(3dbaseline)"
      ]
    },
    {
      "cell_type": "code",
      "execution_count": null,
      "metadata": {},
      "outputs": [],
      "source": [
        "%cd \"/content/RadishRobotCV\"\n",
        "from transcribe_helper import tinypose23dbl\n",
        "import json\n",
        "\n",
        "%cd \"/content/RadishRobotCV\"\n",
        "tJson = json.load(open(\"./input_dir/input_json.json\",\"r\"))\n",
        "output = tinypose23dbl.transcribePP23D(tJson=tJson)\n",
        "\n",
        "filepath = \"./input_dir/input_jsonDir_2d\"\n",
        "\n",
        "print(type(output))\n",
        "output = json.dumps(output)\n",
        "datas = json.loads(output)\n",
        "\n",
        "cnt = -1\n",
        "for data in datas.items():\n",
        "    cnt += 1\n",
        "    _out_file = filepath+'/{0}.json'.format(str(cnt))\n",
        "    with open(_out_file, 'w') as outfile:\n",
        "            json.dump(data, outfile, indent=4) \n",
        "# Write to files in Frames  \"/content/RadishRobotCV/input_dir/input_jsonDir_2d\""
      ]
    },
    {
      "cell_type": "markdown",
      "metadata": {},
      "source": [
        "### json - json"
      ]
    },
    {
      "cell_type": "code",
      "execution_count": null,
      "metadata": {},
      "outputs": [],
      "source": [
        "%cd \"/content/RadishRobotCV/3dbaseline\"\n",
        "!python src/openpose_3dpose_sandbox.py --camera_frame --residual --batch_norm --dropout 0.5 --max_norm --evaluateActionWise --use_sh --epochs 1 --load 24371 --pose_estimation_json /content/RadishRobotCV/input_dir/input_jsonDir_2d --gif_fps 24\n",
        "\n",
        "%cp \"./maya/outputData.json\" \"/content/RadishRobotCV/input_dir/input_json2.json\""
      ]
    },
    {
      "cell_type": "markdown",
      "metadata": {},
      "source": [
        "### json - numpy"
      ]
    },
    {
      "cell_type": "code",
      "execution_count": null,
      "metadata": {},
      "outputs": [],
      "source": [
        "%cd \"/content/RadishRobotCV\"\n",
        "from transcribe_helper import json2npy\n",
        "import numpy as np\n",
        "#TODO: make dir to json file\n",
        "keyPointsData_JSON = json.load(open(\"./input_dir/input_json2.json\",\"r\"))\n",
        "outputNpy = json2npy.transcribeJSON2NPY(keyPointsData_JSON)\n",
        "fileName = \"output.npy\"\n",
        "np.save(fileName, outputNpy)\n",
        "%mv output.npy \"./input_dir/input.npy\""
      ]
    },
    {
      "cell_type": "markdown",
      "metadata": {},
      "source": [
        "### numpy - bvh"
      ]
    },
    {
      "cell_type": "code",
      "execution_count": null,
      "metadata": {},
      "outputs": [],
      "source": [
        "from transcribe_helper import transcribe_toBVH\n",
        "%cd \"/content/RadishRobotCV\"\n",
        "customPose = np.load(\"./input_dir/input.npy\")\n",
        "output = './output.bvh'\n",
        "transcribe_toBVH.makeBvhWithNpyFile(customPose, output)"
      ]
    }
  ],
  "metadata": {
    "accelerator": "GPU",
    "colab": {
      "collapsed_sections": [],
      "name": "RadishRobot.ipynb",
      "provenance": []
    },
    "kernelspec": {
      "display_name": "Python 3",
      "name": "python3"
    },
    "language_info": {
      "name": "python",
      "version": "3.10.4"
    }
  },
  "nbformat": 4,
  "nbformat_minor": 0
}
